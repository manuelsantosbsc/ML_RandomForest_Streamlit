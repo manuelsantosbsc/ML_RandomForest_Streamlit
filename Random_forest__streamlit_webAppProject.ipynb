{
  "nbformat": 4,
  "nbformat_minor": 0,
  "metadata": {
    "colab": {
      "provenance": []
    },
    "kernelspec": {
      "name": "python3",
      "display_name": "Python 3"
    },
    "language_info": {
      "name": "python"
    }
  },
  "cells": [
    {
      "cell_type": "code",
      "execution_count": 30,
      "metadata": {
        "id": "V1FJ2Q_1foFr"
      },
      "outputs": [],
      "source": [
        "pip install streamlit -q"
      ]
    },
    {
      "cell_type": "code",
      "source": [
        "pip install Pillow"
      ],
      "metadata": {
        "colab": {
          "base_uri": "https://localhost:8080/"
        },
        "id": "Y1h6ObVzftKf",
        "outputId": "02d60ba1-70fa-47ff-8a9b-615e8d024a54"
      },
      "execution_count": 31,
      "outputs": [
        {
          "output_type": "stream",
          "name": "stdout",
          "text": [
            "Requirement already satisfied: Pillow in /usr/local/lib/python3.10/dist-packages (9.4.0)\n"
          ]
        }
      ]
    },
    {
      "cell_type": "code",
      "source": [
        "!wget -q -O - ipv4.icanhazip.com"
      ],
      "metadata": {
        "colab": {
          "base_uri": "https://localhost:8080/"
        },
        "id": "qw75jLz6f8PT",
        "outputId": "e76a3d2f-8317-4f2f-a816-c724ea8e6130"
      },
      "execution_count": 32,
      "outputs": [
        {
          "output_type": "stream",
          "name": "stdout",
          "text": [
            "34.45.96.9\n"
          ]
        }
      ]
    },
    {
      "cell_type": "code",
      "source": [
        "%%writefile app.py\n",
        "import streamlit as st\n",
        "import pandas as pd\n",
        "import matplotlib.pyplot as plt\n",
        "import seaborn as sns\n",
        "import numpy as np\n",
        "\n",
        "from sklearn.model_selection import train_test_split\n",
        "from sklearn.preprocessing import StandardScaler\n",
        "\n",
        "from sklearn.ensemble import RandomForestRegressor\n",
        "from sklearn.metrics import mean_absolute_error, r2_score\n",
        "\n",
        "st.title(\"Algoritmo 3: \")\n",
        "st.header(\"Random Forest\")\n",
        "st.write(\"Este algoritmo usa las métricas de MAE y R2 para realizar sus predicciones. Los datos fueron obtenidos del archivo 'laptop_price.csv. Las caracteristicas analizadas fueron: 'Inches', 'Ram', 'Weight', 'Cpu_hgz', 'IPS', 'Touchscreen', 'screen_width', 'SSD_GB','HDD_GB' \")\n",
        "\n",
        "#datos\n",
        "df = pd.read_csv('laptop_price.csv', encoding='ISO-8859-1')\n",
        "\n",
        "#Borrado de laptop ID al no tener informacion valiada solo es campo de numeracion correlativa\n",
        "df.drop(columns=['laptop_ID'],inplace=True)\n",
        "\n",
        "# convertir a numerico: la columna Ram\n",
        "df['Ram']=df['Ram'].str.replace('GB','').astype(float)\n",
        "\n",
        "# Ubicamosla columna que puede ser usada para OHE y aplicamos OHE\n",
        "# La columna identificada para OHE es tipo de laptop ('TypeName')\n",
        "df['TypeName'].value_counts()\n",
        "df1=pd.get_dummies(df,columns=['TypeName'],drop_first=True ,dtype=int)\n",
        "\n",
        "# Columna Weight: Extraemos los valores numéricos de la columna Weight\n",
        "df['Weight'] = df['Weight'].str.replace('kg', '').astype(float)\n",
        "\n",
        "# Columna Cpu_GHz: Extraemos la velocidad del procesador y generamos una coluna nueva\n",
        "df['Cpu_hgz'] = df['Cpu'].apply(lambda x: x.split()[-1].replace(\"GHz\", \"\")).astype(float)\n",
        "\n",
        "# Extraendo la marca/modelo de procesaros\n",
        "def fetch_processor(x):\n",
        "  cpu_name = \" \".join(x.split()[0:3])\n",
        "  if cpu_name == 'Intel Core i3' or cpu_name == 'Intel Core i5' or cpu_name == 'Intel Core i7':\n",
        "    return cpu_name\n",
        "  elif cpu_name.split()[0] == 'Intel':\n",
        "    return 'Otro modelo Intel'\n",
        "  else:\n",
        "    return 'Procesador AMD'\n",
        "\n",
        "df['Modelo_Cpu'] = df['Cpu'].apply(lambda x: fetch_processor(x))\n",
        "#Procesado la columna Cpu procedemos al borado\n",
        "df.drop(columns=['Cpu'],inplace=True)\n",
        "\n",
        "# Creamos 2 columnas si es IPS o Touchscreen\n",
        "df['IPS']=df['ScreenResolution'].apply(lambda x:1 if 'IPS' in x else 0)\n",
        "df['Touchscreen'] = df['ScreenResolution'].apply(lambda x:1 if 'Touchscreen' in x else 0)\n",
        "\n",
        "# Extraemos el las dimexiones de la pantalla X,Y\n",
        "\n",
        "df[['screen_width', 'screen_height']] = df['ScreenResolution'].str.extract(r'(\\d{3,4})x(\\d{3,4})').astype(float)\n",
        "df.head()\n",
        "\n",
        "#Limpieza de columans procesadas\n",
        "df.drop(columns=['ScreenResolution'],inplace=True)\n",
        "\n",
        "# Procesamos la columna memoria\n",
        "# Generamos nuevas columnas de tipo de memoria con el tamaño del mismo\n",
        "\n",
        "#-------------------------------------------------------------------------------\n",
        "#mean_absolute_error = st.empty()\n",
        "#r2_score = st.empty()\n",
        "\n",
        "import re\n",
        "# Función para convertir la memoria a gigabytes (GB) y clasificar por tipo\n",
        "def extract_memory_types(memory_string):\n",
        "    # Inicializar valores\n",
        "    ssd_gb = 0\n",
        "    hdd_gb = 0\n",
        "    flash_gb = 0\n",
        "    hybrid_gb = 0\n",
        "\n",
        "    # Dividir la cadena en componentes si hay '+'\n",
        "    components = re.split(r'\\s*\\+\\s*', memory_string)\n",
        "\n",
        "    for component in components:\n",
        "        # Buscar todas las capacidades y tipos de almacenamiento\n",
        "        matches = re.findall(r'(\\d+(\\.\\d+)?)\\s*(GB|TB|MB)?\\s*(SSD|HDD|Flash Storage|Hybrid)?', component)\n",
        "\n",
        "        for match in matches:\n",
        "            value = float(match[0])\n",
        "            unit = match[2] if match[2] else 'GB'\n",
        "            storage_type = match[3] if match[3] else 'Unknown'\n",
        "\n",
        "            # Convertir la unidad a GB\n",
        "            if unit == 'TB':\n",
        "                value *= 1024  # 1 TB = 1024 GB\n",
        "            elif unit == 'MB':\n",
        "                value /= 1024  # 1 GB = 1024 MB\n",
        "\n",
        "            # Asignar el valor a la columna correspondiente\n",
        "            if 'SSD' in storage_type:\n",
        "                ssd_gb += value\n",
        "            elif 'HDD' in storage_type:\n",
        "                hdd_gb += value\n",
        "            elif 'Flash Storage' in storage_type:\n",
        "                flash_gb += value\n",
        "            elif 'Hybrid' in storage_type:\n",
        "                hybrid_gb += value\n",
        "\n",
        "    return pd.Series([ssd_gb, hdd_gb, flash_gb, hybrid_gb], index=['SSD_GB', 'HDD_GB', 'Flash_GB', 'Hybrid_GB'])\n",
        "\n",
        "# Aplicar la función a la columna\n",
        "df[['SSD_GB', 'HDD_GB', 'Flash_GB', 'Hybrid_GB']] = df['Memory'].apply(extract_memory_types)\n",
        "# Boramos la columna procesada\n",
        "df.drop(columns=['Memory'],inplace=True)\n",
        "\n",
        "# Extraemos la marca de GPU\n",
        "df['Marca_Gpu'] = df['Gpu'].apply(lambda x:x.split()[0])\n",
        "df.drop(columns=['Gpu'],inplace=True)\n",
        "#Extraemos qué sistema OpSys\n",
        "def os(inp):\n",
        "    if inp == 'Windows 10' or inp == 'Windows 7' or inp == 'Windows 10 S':\n",
        "        return 'Windows'\n",
        "    elif inp == 'macOS' or inp == 'Mac OS X':\n",
        "        return 'Mac'\n",
        "    else:\n",
        "        return 'Otros/No SO/Linux'\n",
        "df['os'] = df['OpSys'].apply(os)\n",
        "df.drop(columns=['OpSys'],inplace=True)\n",
        "\n",
        "#Evaluamos el mapa de calor\n",
        "#plt.figure(figsize=(15, 9))\n",
        "#sns.heatmap(df.corr(numeric_only=True), cmap='coolwarm', annot=True)\n",
        "#plt.show()\n",
        "\n",
        "#Tarea 3:\n",
        "\n",
        "#seleccionar las columnas para X que ustedes concideran son las de mas alta correlacion\n",
        "#seleccionamos las mayores a 0.1\n",
        "# Crear X , y\n",
        "\n",
        "X = df[['Inches','Ram','Weight','Cpu_hgz','IPS', 'Touchscreen','screen_width','SSD_GB','HDD_GB' ]]\n",
        "y = np.log(df['Price_euros'])\n",
        "\n",
        "\n",
        "# Division de los Datos\n",
        "# 85% para entrenamiento, 15% para prueba\n",
        "\n",
        "X_train, X_test, y_train, y_test = train_test_split(X, y, test_size=0.15, random_state=42)\n",
        "\n",
        "#Función ------------------------------------------------------------------------------------------\n",
        "def predecir_rfr():\n",
        "\n",
        "# Estandarizacion\n",
        "  scaler = StandardScaler()\n",
        "  X_train_sc = scaler.fit_transform(X_train)\n",
        "  X_test_sc = scaler.transform(X_test)\n",
        "\n",
        "# Tarea 4: Random Forest (Bosque Aleatorio) para Regresion\n",
        "\n",
        "  rfr = RandomForestRegressor(n_estimators=100,random_state=42,max_samples=0.5,max_features=0.75,max_depth=15)\n",
        "  rfr.fit(X_train_sc, y_train)\n",
        "\n",
        "# Evaluacion de Algoritmo 3: Evaluacion de Ramdom Forest\n",
        "  y_pred_rfr = rfr.predict(X_test_sc)\n",
        "# Hacer predicciones\n",
        "\n",
        "# Evaluar que tan correctas / Precisas son las predicciones\n",
        "# IMPORTANTE: en este caso escoger metricas de regresion: MAE, R2 score\n",
        "\n",
        "  mae_rfr = mean_absolute_error(y_test, y_pred_rfr)\n",
        "  r2_rfr = r2_score(y_test, y_pred_rfr)\n",
        "\n",
        "  st.write(f\"MAE Random Forest: {mae_rfr:.2f}\")\n",
        "  st.write(f\"R2 Score Random Forest: {r2_rfr:.2f}%\")\n",
        "\n",
        "#Crear el botón\n",
        "if st.button('Predecir'):\n",
        "  predecir_rfr()\n",
        "\n"
      ],
      "metadata": {
        "colab": {
          "base_uri": "https://localhost:8080/"
        },
        "id": "YsrkwBpMgAZp",
        "outputId": "3f1e7442-ec52-4cdc-d7bc-6028b7594fbd"
      },
      "execution_count": 72,
      "outputs": [
        {
          "output_type": "stream",
          "name": "stdout",
          "text": [
            "Overwriting app.py\n"
          ]
        }
      ]
    },
    {
      "cell_type": "code",
      "source": [
        "!streamlit run app.py & npx localtunnel --port 8501"
      ],
      "metadata": {
        "colab": {
          "base_uri": "https://localhost:8080/"
        },
        "id": "iUB5fodegBW6",
        "outputId": "41496d64-db73-4a4f-b489-c70f5bc03733"
      },
      "execution_count": 73,
      "outputs": [
        {
          "output_type": "stream",
          "name": "stdout",
          "text": [
            "\n",
            "Collecting usage statistics. To deactivate, set browser.gatherUsageStats to false.\n",
            "\u001b[0m\n",
            "\u001b[0m\n",
            "\u001b[34m\u001b[1m  You can now view your Streamlit app in your browser.\u001b[0m\n",
            "\u001b[0m\n",
            "\u001b[34m  Local URL: \u001b[0m\u001b[1mhttp://localhost:8501\u001b[0m\n",
            "\u001b[34m  Network URL: \u001b[0m\u001b[1mhttp://172.28.0.12:8501\u001b[0m\n",
            "\u001b[34m  External URL: \u001b[0m\u001b[1mhttp://34.45.96.9:8501\u001b[0m\n",
            "\u001b[0m\n",
            "your url is: https://open-memes-wink.loca.lt\n",
            "\u001b[34m  Stopping...\u001b[0m\n",
            "^C\n"
          ]
        }
      ]
    }
  ]
}